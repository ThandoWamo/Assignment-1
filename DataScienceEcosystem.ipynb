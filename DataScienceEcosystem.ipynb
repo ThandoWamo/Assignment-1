{
 "cells": [
  {
   "cell_type": "markdown",
   "id": "a4fc31f4-4b11-4f1a-ae51-aecb4d7d4f7c",
   "metadata": {},
   "source": [
    "# Data ScienceTools and Ecosystem"
   ]
  },
  {
   "cell_type": "markdown",
   "id": "3efe27ef-125d-4b4b-a26c-4a053aa40485",
   "metadata": {},
   "source": [
    "In this notebook, Data Science Tools and Ecosystem are summarized."
   ]
  },
  {
   "cell_type": "markdown",
   "id": "61af1386-a25d-4e6d-aef6-a09d377ff164",
   "metadata": {},
   "source": [
    "**Objectives:**\n",
    "  - Popular languages for Data Science\n",
    "  - Commonly used Libraries used by Data Scientists\n",
    "- Data Science Tools\n",
    "- Arithmetic expression to mutiply then add\n",
    "- Converting minutes to hours\n"
   ]
  },
  {
   "cell_type": "markdown",
   "id": "e6c4058f-08e4-4775-8c55-f92bb413a207",
   "metadata": {},
   "source": [
    "##### Some of the popular languages that Data Scientists use are:\n",
    "1. Phython\n",
    "2. JAVA\n",
    "3. SQL\n",
    "4. R\n",
    "5. C++"
   ]
  },
  {
   "cell_type": "markdown",
   "id": "d3b315ab-468d-4693-8a56-be766d8466ed",
   "metadata": {},
   "source": [
    "##### Some of the commonly used libraries used by Data Scientists include:\n",
    "1. Ggplot2\n",
    "2. NumPy\n",
    "3. Pandas\n",
    "4. Keras\n",
    "5. Plotly"
   ]
  },
  {
   "cell_type": "markdown",
   "id": "25bc8737-89e9-47d6-a92b-53c12503bbea",
   "metadata": {},
   "source": [
    "| Data Science Tools |\n",
    "|--------------------|\n",
    "| Jupyter Notebook |\n",
    "| RStudios|\n",
    "| Apache Spark |\n"
   ]
  },
  {
   "cell_type": "markdown",
   "id": "12c54779-16bc-43f5-9fe6-47b8155c462e",
   "metadata": {},
   "source": [
    "### Below are a few examples of evaluating arithmetic expressions in Python"
   ]
  },
  {
   "cell_type": "code",
   "execution_count": 2,
   "id": "6b6d7031-4c77-46d3-978d-f3482d235790",
   "metadata": {},
   "outputs": [
    {
     "data": {
      "text/plain": [
       "17"
      ]
     },
     "execution_count": 2,
     "metadata": {},
     "output_type": "execute_result"
    }
   ],
   "source": [
    "## This a simple arithmetic expression to mutiply then add integers\n",
    "(3*4)+5"
   ]
  },
  {
   "cell_type": "code",
   "execution_count": 4,
   "id": "60b2d963-abbe-4e46-a65c-8e3b9ff2e623",
   "metadata": {},
   "outputs": [
    {
     "name": "stdout",
     "output_type": "stream",
     "text": [
      "3.3333333333333335\n"
     ]
    }
   ],
   "source": [
    "## This will convert 200 minutes to hours by diving by 60\n",
    "min = 200\n",
    "hrs = min/60\n",
    "print(hrs)"
   ]
  },
  {
   "cell_type": "markdown",
   "id": "4049d60d-be74-4563-a31e-2b780e820bad",
   "metadata": {},
   "source": [
    "## Author\n",
    "Noluthando Mhlanga "
   ]
  },
  {
   "cell_type": "code",
   "execution_count": null,
   "id": "c99b3e9e-2890-4043-896e-0c77eb8cac14",
   "metadata": {},
   "outputs": [],
   "source": []
  }
 ],
 "metadata": {
  "kernelspec": {
   "display_name": "Python 3 (ipykernel)",
   "language": "python",
   "name": "python3"
  },
  "language_info": {
   "codemirror_mode": {
    "name": "ipython",
    "version": 3
   },
   "file_extension": ".py",
   "mimetype": "text/x-python",
   "name": "python",
   "nbconvert_exporter": "python",
   "pygments_lexer": "ipython3",
   "version": "3.11.7"
  }
 },
 "nbformat": 4,
 "nbformat_minor": 5
}
